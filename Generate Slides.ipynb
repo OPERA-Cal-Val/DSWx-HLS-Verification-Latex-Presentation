{
 "cells": [
  {
   "cell_type": "code",
   "execution_count": 1,
   "id": "5d60be73",
   "metadata": {
    "ExecuteTime": {
     "end_time": "2023-01-20T20:26:44.092021Z",
     "start_time": "2023-01-20T20:26:44.089427Z"
    }
   },
   "outputs": [],
   "source": [
    "from pathlib import Path"
   ]
  },
  {
   "cell_type": "code",
   "execution_count": 2,
   "id": "7e417f81",
   "metadata": {
    "ExecuteTime": {
     "end_time": "2023-01-20T20:26:44.097596Z",
     "start_time": "2023-01-20T20:26:44.094757Z"
    }
   },
   "outputs": [],
   "source": [
    "TEMPLATE = r\"\"\"\n",
    "\n",
    "%%%%%%%%%%%%%%%%%%%%%%%%%%%%%%%%%%%%%%%%%%%%%%%%%%\n",
    "\\begin{frame}[fragile]\n",
    "\\frametitle{$<<DSWX_ID>>$}\n",
    "\n",
    "\\begin{center}\n",
    "\\tiny\n",
    "\\begin{verbatim}\n",
    "DSWx ID: <<DSWX_ID_ORIGINAL>>\n",
    "\\end{verbatim}\n",
    "\\input{<<DSWX_DIR>>/more_ids.tex}\n",
    "\\adjincludegraphics[width=\\textwidth,trim={{.1\\width} {0.2\\height} {.12\\width} {0.2\\height}},clip]{<<DSWX_DIR>>/extent.png}\n",
    "\n",
    "\\end{center}\n",
    "\\end{frame}\n",
    "%%%%%%%%%%%%%%%%%%%%%%%%%%%%%%%%%%%%%%%%%%%%%%%%%%\n",
    "\n",
    "\n",
    "%%%%%%%%%%%%%%%%%%%%%%%%%%%%%%%%%%%%%%%%%%%%%%%%%%\n",
    "\\begin{frame}[t,fragile]\n",
    "\\frametitle{$<<DSWX_ID>>$}\n",
    "\n",
    "\\begin{center}\n",
    "\n",
    "\\tiny\n",
    "\\adjincludegraphics[width=.9\\textwidth,trim={{.0\\width} {0.1\\height} {.0\\width} {0.15\\height}},clip]{<<DSWX_DIR>>/comparison_resample.png}\n",
    "\\input{<<DSWX_DIR>>/requirements.tex}\n",
    "\\input{<<DSWX_DIR>>/confusion.tex}\n",
    "\\input{<<DSWX_DIR>>/accuracy.tex}\n",
    "\\end{center}\n",
    "\\end{frame}\n",
    "%%%%%%%%%%%%%%%%%%%%%%%%%%%%%%%%%%%%%%%%%%%%%%%%%%\n",
    "\n",
    "%%%%%%%%%%%%%%%%%%%%%%%%%%%%%%%%%%%%%%%%%%%%%%%%%%\n",
    "\\begin{frame}[t,fragile]\n",
    "\\frametitle{$<<DSWX_ID>>$}\n",
    "\\begin{center}\n",
    "\\tiny\n",
    "\\adjincludegraphics[width=.9\\textwidth,trim={{.0\\width} {0.1\\height} {.0\\width} {0.15\\height}},clip]{<<DSWX_DIR>>/comparison_resample_with_mask.png}\n",
    "\\input{<<DSWX_DIR>>/areas.tex}\n",
    "\\input{<<DSWX_DIR>>/omission_comission.tex}\n",
    "\\end{center}\n",
    "\\end{frame}\n",
    "%%%%%%%%%%%%%%%%%%%%%%%%%%%%%%%%%%%%%%%%%%%%%%%%%%\n",
    "\n",
    "\"\"\""
   ]
  },
  {
   "cell_type": "markdown",
   "id": "f40e87b7",
   "metadata": {},
   "source": [
    "Modify the directory below to the type of verification plots desired and have."
   ]
  },
  {
   "cell_type": "code",
   "execution_count": 3,
   "id": "397decf4",
   "metadata": {
    "ExecuteTime": {
     "end_time": "2023-01-20T20:26:44.110823Z",
     "start_time": "2023-01-20T20:26:44.100316Z"
    }
   },
   "outputs": [
    {
     "data": {
      "text/plain": [
       "PosixPath('presentation_images/100-trials_conf-geq-70_sample-from-val/OPERA_L3_DSWx-HLS_T15QYU_20211011T162221Z_20230110T183526Z_S2A_30_v1.0')"
      ]
     },
     "execution_count": 3,
     "metadata": {},
     "output_type": "execute_result"
    }
   ],
   "source": [
    "dswx_dirs = list(Path('presentation_images/100-trials_conf-geq-70_sample-from-val/').glob('*/'))\n",
    "dswx_dirs = list(filter(lambda path: path.name[0] != '.', dswx_dirs))\n",
    "dswx_dirs[0]"
   ]
  },
  {
   "cell_type": "code",
   "execution_count": 4,
   "id": "914a7145",
   "metadata": {
    "ExecuteTime": {
     "end_time": "2023-01-20T20:26:44.116966Z",
     "start_time": "2023-01-20T20:26:44.114134Z"
    }
   },
   "outputs": [],
   "source": [
    "def generate_slide(dswx_dir: Path) -> str:\n",
    "    slide = TEMPLATE.replace('<<DSWX_ID_ORIGINAL>>', dswx_dir.name)\n",
    "    dswx_id = dswx_dir.name\n",
    "    dswx_id = dswx_id.replace('_', '\\_').replace('-', '{\\\\text -}')\n",
    "    slide = slide.replace('<<DSWX_ID>>', dswx_id)\n",
    "    slide = slide.replace('<<DSWX_DIR>>', str(dswx_dir))\n",
    "    return slide"
   ]
  },
  {
   "cell_type": "code",
   "execution_count": 5,
   "id": "fa5055b8",
   "metadata": {
    "ExecuteTime": {
     "end_time": "2023-01-20T20:26:44.122921Z",
     "start_time": "2023-01-20T20:26:44.119224Z"
    }
   },
   "outputs": [
    {
     "name": "stdout",
     "output_type": "stream",
     "text": [
      "\n",
      "\n",
      "%%%%%%%%%%%%%%%%%%%%%%%%%%%%%%%%%%%%%%%%%%%%%%%%%%\n",
      "\\begin{frame}[fragile]\n",
      "\\frametitle{$OPERA\\_L3\\_DSWx{\\text -}HLS\\_T15QYU\\_20211011T162221Z\\_20230110T183526Z\\_S2A\\_30\\_v1.0$}\n",
      "\n",
      "\\begin{center}\n",
      "\\tiny\n",
      "\\begin{verbatim}\n",
      "DSWx ID: OPERA_L3_DSWx-HLS_T15QYU_20211011T162221Z_20230110T183526Z_S2A_30_v1.0\n",
      "\\end{verbatim}\n",
      "\\input{presentation_images/100-trials_conf-geq-70_sample-from-val/OPERA_L3_DSWx-HLS_T15QYU_20211011T162221Z_20230110T183526Z_S2A_30_v1.0/more_ids.tex}\n",
      "\\adjincludegraphics[width=\\textwidth,trim={{.1\\width} {0.2\\height} {.12\\width} {0.2\\height}},clip]{presentation_images/100-trials_conf-geq-70_sample-from-val/OPERA_L3_DSWx-HLS_T15QYU_20211011T162221Z_20230110T183526Z_S2A_30_v1.0/extent.png}\n",
      "\n",
      "\\end{center}\n",
      "\\end{frame}\n",
      "%%%%%%%%%%%%%%%%%%%%%%%%%%%%%%%%%%%%%%%%%%%%%%%%%%\n",
      "\n",
      "\n",
      "%%%%%%%%%%%%%%%%%%%%%%%%%%%%%%%%%%%%%%%%%%%%%%%%%%\n",
      "\\begin{frame}[t,fragile]\n",
      "\\frametitle{$OPERA\\_L3\\_DSWx{\\text -}HLS\\_T15QYU\\_20211011T162221Z\\_20230110T183526Z\\_S2A\\_30\\_v1.0$}\n",
      "\n",
      "\\begin{center}\n",
      "\n",
      "\\tiny\n",
      "\\adjincludegraphics[width=.9\\textwidth,trim={{.0\\width} {0.1\\height} {.0\\width} {0.15\\height}},clip]{presentation_images/100-trials_conf-geq-70_sample-from-val/OPERA_L3_DSWx-HLS_T15QYU_20211011T162221Z_20230110T183526Z_S2A_30_v1.0/comparison_resample.png}\n",
      "\\input{presentation_images/100-trials_conf-geq-70_sample-from-val/OPERA_L3_DSWx-HLS_T15QYU_20211011T162221Z_20230110T183526Z_S2A_30_v1.0/requirements.tex}\n",
      "\\input{presentation_images/100-trials_conf-geq-70_sample-from-val/OPERA_L3_DSWx-HLS_T15QYU_20211011T162221Z_20230110T183526Z_S2A_30_v1.0/confusion.tex}\n",
      "\\input{presentation_images/100-trials_conf-geq-70_sample-from-val/OPERA_L3_DSWx-HLS_T15QYU_20211011T162221Z_20230110T183526Z_S2A_30_v1.0/accuracy.tex}\n",
      "\\end{center}\n",
      "\\end{frame}\n",
      "%%%%%%%%%%%%%%%%%%%%%%%%%%%%%%%%%%%%%%%%%%%%%%%%%%\n",
      "\n",
      "%%%%%%%%%%%%%%%%%%%%%%%%%%%%%%%%%%%%%%%%%%%%%%%%%%\n",
      "\\begin{frame}[t,fragile]\n",
      "\\frametitle{$OPERA\\_L3\\_DSWx{\\text -}HLS\\_T15QYU\\_20211011T162221Z\\_20230110T183526Z\\_S2A\\_30\\_v1.0$}\n",
      "\\begin{center}\n",
      "\\tiny\n",
      "\\adjincludegraphics[width=.9\\textwidth,trim={{.0\\width} {0.1\\height} {.0\\width} {0.15\\height}},clip]{presentation_images/100-trials_conf-geq-70_sample-from-val/OPERA_L3_DSWx-HLS_T15QYU_20211011T162221Z_20230110T183526Z_S2A_30_v1.0/comparison_resample_with_mask.png}\n",
      "\\input{presentation_images/100-trials_conf-geq-70_sample-from-val/OPERA_L3_DSWx-HLS_T15QYU_20211011T162221Z_20230110T183526Z_S2A_30_v1.0/areas.tex}\n",
      "\\input{presentation_images/100-trials_conf-geq-70_sample-from-val/OPERA_L3_DSWx-HLS_T15QYU_20211011T162221Z_20230110T183526Z_S2A_30_v1.0/omission_comission.tex}\n",
      "\\end{center}\n",
      "\\end{frame}\n",
      "%%%%%%%%%%%%%%%%%%%%%%%%%%%%%%%%%%%%%%%%%%%%%%%%%%\n",
      "\n",
      "\n"
     ]
    }
   ],
   "source": [
    "print(generate_slide(dswx_dirs[0]))"
   ]
  },
  {
   "cell_type": "code",
   "execution_count": 6,
   "id": "580b3590",
   "metadata": {
    "ExecuteTime": {
     "end_time": "2023-01-20T20:26:44.128045Z",
     "start_time": "2023-01-20T20:26:44.125232Z"
    }
   },
   "outputs": [],
   "source": [
    "slide_list = [generate_slide(dswx_dir) for dswx_dir in dswx_dirs]\n",
    "latex = '\\n\\n'.join(slide_list)"
   ]
  },
  {
   "cell_type": "code",
   "execution_count": 7,
   "id": "a5797087",
   "metadata": {
    "ExecuteTime": {
     "end_time": "2023-01-20T20:26:44.134398Z",
     "start_time": "2023-01-20T20:26:44.130934Z"
    }
   },
   "outputs": [],
   "source": [
    "with open('slides.tex', 'w') as f:\n",
    "    f.write(latex)"
   ]
  }
 ],
 "metadata": {
  "kernelspec": {
   "display_name": "Python 3",
   "language": "python",
   "name": "python3"
  },
  "language_info": {
   "codemirror_mode": {
    "name": "ipython",
    "version": 3
   },
   "file_extension": ".py",
   "mimetype": "text/x-python",
   "name": "python",
   "nbconvert_exporter": "python",
   "pygments_lexer": "ipython3",
   "version": "3.8.5"
  }
 },
 "nbformat": 4,
 "nbformat_minor": 5
}
