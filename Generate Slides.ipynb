{
 "cells": [
  {
   "cell_type": "code",
   "execution_count": 1,
   "id": "8ae8cbb2",
   "metadata": {
    "ExecuteTime": {
     "end_time": "2023-01-20T19:29:15.503421Z",
     "start_time": "2023-01-20T19:29:15.501061Z"
    }
   },
   "outputs": [],
   "source": [
    "from pathlib import Path"
   ]
  },
  {
   "cell_type": "code",
   "execution_count": 2,
   "id": "632ac5a3",
   "metadata": {
    "ExecuteTime": {
     "end_time": "2023-01-20T19:29:15.507554Z",
     "start_time": "2023-01-20T19:29:15.505367Z"
    }
   },
   "outputs": [],
   "source": [
    "TEMPLATE = r\"\"\"\n",
    "%%%%%%%%%%%%%%%%%%%%%%%%%%%%%%%%%%%%%%%%%%%%%%%%%%\n",
    "\\begin{frame}[t,fragile]\n",
    "\\frametitle{}\n",
    "\\begin{center}\n",
    "\\frametitle{$<<DSWX_ID>>$}\n",
    "\n",
    "\\tiny\n",
    "\\adjincludegraphics[width=.9\\textwidth,trim={{.0\\width} {0.1\\height} {.0\\width} {0.15\\height}},clip]{<<DSWX_DIR>>/comparison_resample.png}\n",
    "\\input{<<DSWX_DIR>>/requirements.tex}\n",
    "\\input{<<DSWX_DIR>>/confusion.tex}\n",
    "\\input{<<DSWX_DIR>>/accuracy.tex}\n",
    "\\end{center}\n",
    "\\end{frame}\n",
    "%%%%%%%%%%%%%%%%%%%%%%%%%%%%%%%%%%%%%%%%%%%%%%%%%%\n",
    "\n",
    "%%%%%%%%%%%%%%%%%%%%%%%%%%%%%%%%%%%%%%%%%%%%%%%%%%\n",
    "\\begin{frame}[t,fragile]\n",
    "\\frametitle{$<<DSWX_ID>>$}\n",
    "\\begin{center}\n",
    "\\tiny\n",
    "\\adjincludegraphics[width=.9\\textwidth,trim={{.0\\width} {0.1\\height} {.0\\width} {0.15\\height}},clip]{<<DSWX_DIR>>/comparison_resample_with_mask.png}\n",
    "\\input{<<DSWX_DIR>>/areas.tex}\n",
    "\\input{<<DSWX_DIR>>/omission_comission.tex}\n",
    "\\end{center}\n",
    "\\end{frame}\n",
    "%%%%%%%%%%%%%%%%%%%%%%%%%%%%%%%%%%%%%%%%%%%%%%%%%%\n",
    "\n",
    "\"\"\""
   ]
  },
  {
   "cell_type": "markdown",
   "id": "c028ef9a",
   "metadata": {},
   "source": [
    "Modify the directory below to the type of verification plots desired and have."
   ]
  },
  {
   "cell_type": "code",
   "execution_count": 3,
   "id": "26900927",
   "metadata": {
    "ExecuteTime": {
     "end_time": "2023-01-20T19:29:15.517336Z",
     "start_time": "2023-01-20T19:29:15.509376Z"
    }
   },
   "outputs": [],
   "source": [
    "dswx_dirs = list(Path('presentation_images/100-trials_conf-geq-70_sample-from-val/').glob('*/'))\n",
    "dswx_dirs = list(filter(lambda path: path.name[0] != '.', dswx_dirs))\n",
    "dswx_dirs[0]"
   ]
  },
  {
   "cell_type": "code",
   "execution_count": 4,
   "id": "2e4db57a",
   "metadata": {
    "ExecuteTime": {
     "end_time": "2023-01-20T19:29:15.521995Z",
     "start_time": "2023-01-20T19:29:15.519240Z"
    }
   },
   "outputs": [],
   "source": [
    "def generate_slide(dswx_dir: Path) -> str:\n",
    "    dswx_id = dswx_dir.name\n",
    "    dswx_id = dswx_id.replace('_', '\\_').replace('-', '{\\\\text -}')\n",
    "    print(dswx_id)\n",
    "    slide = TEMPLATE.replace('<<DSWX_ID>>', dswx_id)\n",
    "    slide = slide.replace('<<DSWX_DIR>>', str(dswx_dir))\n",
    "    return slide"
   ]
  },
  {
   "cell_type": "code",
   "execution_count": 5,
   "id": "438ab3f9",
   "metadata": {
    "ExecuteTime": {
     "end_time": "2023-01-20T19:29:15.526318Z",
     "start_time": "2023-01-20T19:29:15.523810Z"
    }
   },
   "outputs": [
    {
     "name": "stdout",
     "output_type": "stream",
     "text": [
      "OPERA\\_L3\\_DSWx{\\text -}HLS\\_T15QYU\\_20211011T162221Z\\_20230110T183526Z\\_S2A\\_30\\_v1.0\n",
      "\n",
      "%%%%%%%%%%%%%%%%%%%%%%%%%%%%%%%%%%%%%%%%%%%%%%%%%%\n",
      "\\begin{frame}[t,fragile]\n",
      "\\frametitle{}\n",
      "\\begin{center}\n",
      "\\frametitle{$OPERA\\_L3\\_DSWx{\\text -}HLS\\_T15QYU\\_20211011T162221Z\\_20230110T183526Z\\_S2A\\_30\\_v1.0$}\n",
      "\n",
      "\\tiny\n",
      "\\adjincludegraphics[width=.9\\textwidth,trim={{.0\\width} {0.1\\height} {.0\\width} {0.15\\height}},clip]{presentation_images/100-trials_conf-geq-70_sample-from-val/OPERA_L3_DSWx-HLS_T15QYU_20211011T162221Z_20230110T183526Z_S2A_30_v1.0/comparison_resample.png}\n",
      "\\input{presentation_images/100-trials_conf-geq-70_sample-from-val/OPERA_L3_DSWx-HLS_T15QYU_20211011T162221Z_20230110T183526Z_S2A_30_v1.0/requirements.tex}\n",
      "\\input{presentation_images/100-trials_conf-geq-70_sample-from-val/OPERA_L3_DSWx-HLS_T15QYU_20211011T162221Z_20230110T183526Z_S2A_30_v1.0/confusion.tex}\n",
      "\\input{presentation_images/100-trials_conf-geq-70_sample-from-val/OPERA_L3_DSWx-HLS_T15QYU_20211011T162221Z_20230110T183526Z_S2A_30_v1.0/accuracy.tex}\n",
      "\\end{center}\n",
      "\\end{frame}\n",
      "%%%%%%%%%%%%%%%%%%%%%%%%%%%%%%%%%%%%%%%%%%%%%%%%%%\n",
      "\n",
      "%%%%%%%%%%%%%%%%%%%%%%%%%%%%%%%%%%%%%%%%%%%%%%%%%%\n",
      "\\begin{frame}[t,fragile]\n",
      "\\frametitle{$OPERA\\_L3\\_DSWx{\\text -}HLS\\_T15QYU\\_20211011T162221Z\\_20230110T183526Z\\_S2A\\_30\\_v1.0$}\n",
      "\\begin{center}\n",
      "\\tiny\n",
      "\\adjincludegraphics[width=.9\\textwidth,trim={{.0\\width} {0.1\\height} {.0\\width} {0.15\\height}},clip]{presentation_images/100-trials_conf-geq-70_sample-from-val/OPERA_L3_DSWx-HLS_T15QYU_20211011T162221Z_20230110T183526Z_S2A_30_v1.0/comparison_resample_with_mask.png}\n",
      "\\input{presentation_images/100-trials_conf-geq-70_sample-from-val/OPERA_L3_DSWx-HLS_T15QYU_20211011T162221Z_20230110T183526Z_S2A_30_v1.0/areas.tex}\n",
      "\\input{presentation_images/100-trials_conf-geq-70_sample-from-val/OPERA_L3_DSWx-HLS_T15QYU_20211011T162221Z_20230110T183526Z_S2A_30_v1.0/omission_comission.tex}\n",
      "\\end{center}\n",
      "\\end{frame}\n",
      "%%%%%%%%%%%%%%%%%%%%%%%%%%%%%%%%%%%%%%%%%%%%%%%%%%\n",
      "\n",
      "\n"
     ]
    }
   ],
   "source": [
    "print(generate_slide(dswx_dirs[0]))"
   ]
  },
  {
   "cell_type": "code",
   "execution_count": 6,
   "id": "d761005c",
   "metadata": {
    "ExecuteTime": {
     "end_time": "2023-01-20T19:29:15.530160Z",
     "start_time": "2023-01-20T19:29:15.527983Z"
    }
   },
   "outputs": [
    {
     "name": "stdout",
     "output_type": "stream",
     "text": [
      "OPERA\\_L3\\_DSWx{\\text -}HLS\\_T15QYU\\_20211011T162221Z\\_20230110T183526Z\\_S2A\\_30\\_v1.0\n"
     ]
    }
   ],
   "source": [
    "slide_list = [generate_slide(dswx_dir) for dswx_dir in dswx_dirs]\n",
    "latex = '\\n\\n'.join(slide_list)"
   ]
  },
  {
   "cell_type": "code",
   "execution_count": 7,
   "id": "4e565837",
   "metadata": {
    "ExecuteTime": {
     "end_time": "2023-01-20T19:29:15.535907Z",
     "start_time": "2023-01-20T19:29:15.533331Z"
    }
   },
   "outputs": [],
   "source": [
    "with open('slides.tex', 'w') as f:\n",
    "    f.write(latex)"
   ]
  },
  {
   "cell_type": "code",
   "execution_count": null,
   "id": "4f6b07c1",
   "metadata": {},
   "outputs": [],
   "source": []
  }
 ],
 "metadata": {
  "kernelspec": {
   "display_name": "Python 3",
   "language": "python",
   "name": "python3"
  },
  "language_info": {
   "codemirror_mode": {
    "name": "ipython",
    "version": 3
   },
   "file_extension": ".py",
   "mimetype": "text/x-python",
   "name": "python",
   "nbconvert_exporter": "python",
   "pygments_lexer": "ipython3",
   "version": "3.8.5"
  }
 },
 "nbformat": 4,
 "nbformat_minor": 5
}
