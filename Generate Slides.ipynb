{
 "cells": [
  {
   "cell_type": "code",
   "execution_count": 1,
   "id": "96838d31",
   "metadata": {
    "ExecuteTime": {
     "end_time": "2023-03-16T00:39:58.791457Z",
     "start_time": "2023-03-16T00:39:58.785191Z"
    }
   },
   "outputs": [],
   "source": [
    "from pathlib import Path"
   ]
  },
  {
   "cell_type": "code",
   "execution_count": 2,
   "id": "832bbb70",
   "metadata": {
    "ExecuteTime": {
     "end_time": "2023-03-16T00:39:58.796894Z",
     "start_time": "2023-03-16T00:39:58.794037Z"
    }
   },
   "outputs": [],
   "source": [
    "TEMPLATE = r\"\"\"\n",
    "\n",
    "%%%%%%%%%%%%%%%%%%%%%%%%%%%%%%%%%%%%%%%%%%%%%%%%%%\n",
    "\\begin{frame}[fragile]\n",
    "\\frametitle{$<<DSWX_ID>>$}\n",
    "\n",
    "\\begin{center}\n",
    "\\tiny\n",
    "\\begin{verbatim}\n",
    "DSWx ID: <<DSWX_ID_ORIGINAL>>\n",
    "\\end{verbatim}\n",
    "\\input{<<DSWX_DIR>>/more_ids.tex}\n",
    "\\adjincludegraphics[width=\\textwidth,trim={{.02\\width} {0.2\\height} {.12\\width} {0.2\\height}},clip]{<<DSWX_DIR>>/extent.png}\n",
    "\n",
    "\\end{center}\n",
    "\\end{frame}\n",
    "%%%%%%%%%%%%%%%%%%%%%%%%%%%%%%%%%%%%%%%%%%%%%%%%%%\n",
    "\n",
    "\n",
    "%%%%%%%%%%%%%%%%%%%%%%%%%%%%%%%%%%%%%%%%%%%%%%%%%%\n",
    "\\begin{frame}[t,fragile]\n",
    "\\frametitle{$<<DSWX_ID>>$}\n",
    "\n",
    "\\begin{center}\n",
    "\n",
    "\\TINY\n",
    "\\adjincludegraphics[width=.8\\textwidth,trim={{.0\\width} {.0\\height} {.0\\width} {.0\\height}},clip]{<<DSWX_DIR>>/comparison_resample.png}\n",
    "\\input{<<DSWX_DIR>>/requirements.tex}\n",
    "\\input{<<DSWX_DIR>>/confusion.tex}\n",
    "\\input{<<DSWX_DIR>>/accuracy.tex}\n",
    "\\end{center}\n",
    "\\end{frame}\n",
    "%%%%%%%%%%%%%%%%%%%%%%%%%%%%%%%%%%%%%%%%%%%%%%%%%%\n",
    "\n",
    "%%%%%%%%%%%%%%%%%%%%%%%%%%%%%%%%%%%%%%%%%%%%%%%%%%\n",
    "\\begin{frame}[t,fragile]\n",
    "\\frametitle{$<<DSWX_ID>>$}\n",
    "\\begin{center}\n",
    "\\TINY\n",
    "\\adjincludegraphics[width=.8\\textwidth,trim={{.0\\width} {.0\\height} {.0\\width} {.0\\height}},clip]{<<DSWX_DIR>>/comparison_resample_with_mask.png}\n",
    "\\input{<<DSWX_DIR>>/areas.tex}\n",
    "\\input{<<DSWX_DIR>>/omission_comission.tex}\n",
    "\n",
    "\\end{center}\n",
    "\\end{frame}\n",
    "%%%%%%%%%%%%%%%%%%%%%%%%%%%%%%%%%%%%%%%%%%%%%%%%%%\n",
    "\n",
    "\"\"\""
   ]
  },
  {
   "cell_type": "markdown",
   "id": "dba7e39e",
   "metadata": {},
   "source": [
    "%\\adjincludegraphics[width=.9\\textwidth,trim={{.0\\width} {0.1\\height} {.0\\width} {0.15\\height}},clip]{<<DSWX_DIR>>/comparison_resample_with_mask.png}"
   ]
  },
  {
   "cell_type": "markdown",
   "id": "cf68e685",
   "metadata": {},
   "source": [
    "Modify the directory below to the type of verification plots desired and have."
   ]
  },
  {
   "cell_type": "code",
   "execution_count": 3,
   "id": "5f07e9e4",
   "metadata": {
    "ExecuteTime": {
     "end_time": "2023-03-16T00:39:58.806380Z",
     "start_time": "2023-03-16T00:39:58.798786Z"
    }
   },
   "outputs": [
    {
     "data": {
      "text/plain": [
       "PosixPath('presentation_images/100-trials_conf-geq-0_sample-from-val/OPERA_L3_DSWx-HLS_T20HLJ_20211021T141049Z_20230314T204531Z_S2B_30_v0.0')"
      ]
     },
     "execution_count": 3,
     "metadata": {},
     "output_type": "execute_result"
    }
   ],
   "source": [
    "dswx_dirs = list(Path('presentation_images/100-trials_conf-geq-0_sample-from-val/').glob('*/'))\n",
    "dswx_dirs = list(filter(lambda path: path.name[0] != '.', dswx_dirs))\n",
    "dswx_dirs = list(filter(lambda path: path.is_dir(), dswx_dirs))\n",
    "dswx_dirs[0]"
   ]
  },
  {
   "cell_type": "code",
   "execution_count": 4,
   "id": "66b93de7",
   "metadata": {
    "ExecuteTime": {
     "end_time": "2023-03-16T00:39:58.812991Z",
     "start_time": "2023-03-16T00:39:58.809353Z"
    }
   },
   "outputs": [
    {
     "data": {
      "text/plain": [
       "True"
      ]
     },
     "execution_count": 4,
     "metadata": {},
     "output_type": "execute_result"
    }
   ],
   "source": [
    "dswx_dirs[0].is_dir()"
   ]
  },
  {
   "cell_type": "code",
   "execution_count": 5,
   "id": "43da73f3",
   "metadata": {
    "ExecuteTime": {
     "end_time": "2023-03-16T00:39:58.817525Z",
     "start_time": "2023-03-16T00:39:58.814587Z"
    }
   },
   "outputs": [],
   "source": [
    "def generate_slide(dswx_dir: Path) -> str:\n",
    "    slide = TEMPLATE.replace('<<DSWX_ID_ORIGINAL>>', dswx_dir.name)\n",
    "    dswx_id = dswx_dir.name\n",
    "    dswx_id = dswx_id.replace('_', '\\_').replace('-', '{\\\\text -}')\n",
    "    slide = slide.replace('<<DSWX_ID>>', dswx_id)\n",
    "    slide = slide.replace('<<DSWX_DIR>>', str(dswx_dir))\n",
    "    return slide"
   ]
  },
  {
   "cell_type": "code",
   "execution_count": 6,
   "id": "3cd58e16",
   "metadata": {
    "ExecuteTime": {
     "end_time": "2023-03-16T00:39:58.822516Z",
     "start_time": "2023-03-16T00:39:58.819168Z"
    }
   },
   "outputs": [
    {
     "data": {
      "text/plain": [
       "'\\n\\n%%%%%%%%%%%%%%%%%%%%%%%%%%%%%%%%%%%%%%%%%%%%%%%%%%\\n\\\\begin{frame}[fragile]\\n\\\\frametitle{$OPERA\\\\_L3\\\\_DSWx{\\\\text -}HLS\\\\_T33PXK\\\\_20211012T090921Z\\\\_20230314T204629Z\\\\_S2A\\\\_30\\\\_v0.0$}\\n\\n\\\\begin{center}\\n\\\\tiny\\n\\\\begin{verbatim}\\nDSWx ID: OPERA_L3_DSWx-HLS_T33PXK_20211012T090921Z_20230314T204629Z_S2A_30_v0.0\\n\\\\end{verbatim}\\n\\\\input{presentation_images/100-trials_conf-geq-0_sample-from-val/OPERA_L3_DSWx-HLS_T33PXK_20211012T090921Z_20230314T204629Z_S2A_30_v0.0/more_ids.tex}\\n\\\\adjincludegraphics[width=\\\\textwidth,trim={{.02\\\\width} {0.2\\\\height} {.12\\\\width} {0.2\\\\height}},clip]{presentation_images/100-trials_conf-geq-0_sample-from-val/OPERA_L3_DSWx-HLS_T33PXK_20211012T090921Z_20230314T204629Z_S2A_30_v0.0/extent.png}\\n\\n\\\\end{center}\\n\\\\end{frame}\\n%%%%%%%%%%%%%%%%%%%%%%%%%%%%%%%%%%%%%%%%%%%%%%%%%%\\n\\n\\n%%%%%%%%%%%%%%%%%%%%%%%%%%%%%%%%%%%%%%%%%%%%%%%%%%\\n\\\\begin{frame}[t,fragile]\\n\\\\frametitle{$OPERA\\\\_L3\\\\_DSWx{\\\\text -}HLS\\\\_T33PXK\\\\_20211012T090921Z\\\\_20230314T204629Z\\\\_S2A\\\\_30\\\\_v0.0$}\\n\\n\\\\begin{center}\\n\\n\\\\TINY\\n\\\\adjincludegraphics[width=.8\\\\textwidth,trim={{.0\\\\width} {.0\\\\height} {.0\\\\width} {.0\\\\height}},clip]{presentation_images/100-trials_conf-geq-0_sample-from-val/OPERA_L3_DSWx-HLS_T33PXK_20211012T090921Z_20230314T204629Z_S2A_30_v0.0/comparison_resample.png}\\n\\\\input{presentation_images/100-trials_conf-geq-0_sample-from-val/OPERA_L3_DSWx-HLS_T33PXK_20211012T090921Z_20230314T204629Z_S2A_30_v0.0/requirements.tex}\\n\\\\input{presentation_images/100-trials_conf-geq-0_sample-from-val/OPERA_L3_DSWx-HLS_T33PXK_20211012T090921Z_20230314T204629Z_S2A_30_v0.0/confusion.tex}\\n\\\\input{presentation_images/100-trials_conf-geq-0_sample-from-val/OPERA_L3_DSWx-HLS_T33PXK_20211012T090921Z_20230314T204629Z_S2A_30_v0.0/accuracy.tex}\\n\\\\end{center}\\n\\\\end{frame}\\n%%%%%%%%%%%%%%%%%%%%%%%%%%%%%%%%%%%%%%%%%%%%%%%%%%\\n\\n%%%%%%%%%%%%%%%%%%%%%%%%%%%%%%%%%%%%%%%%%%%%%%%%%%\\n\\\\begin{frame}[t,fragile]\\n\\\\frametitle{$OPERA\\\\_L3\\\\_DSWx{\\\\text -}HLS\\\\_T33PXK\\\\_20211012T090921Z\\\\_20230314T204629Z\\\\_S2A\\\\_30\\\\_v0.0$}\\n\\\\begin{center}\\n\\\\TINY\\n\\\\adjincludegraphics[width=.8\\\\textwidth,trim={{.0\\\\width} {.0\\\\height} {.0\\\\width} {.0\\\\height}},clip]{presentation_images/100-trials_conf-geq-0_sample-from-val/OPERA_L3_DSWx-HLS_T33PXK_20211012T090921Z_20230314T204629Z_S2A_30_v0.0/comparison_resample_with_mask.png}\\n\\\\input{presentation_images/100-trials_conf-geq-0_sample-from-val/OPERA_L3_DSWx-HLS_T33PXK_20211012T090921Z_20230314T204629Z_S2A_30_v0.0/areas.tex}\\n\\\\input{presentation_images/100-trials_conf-geq-0_sample-from-val/OPERA_L3_DSWx-HLS_T33PXK_20211012T090921Z_20230314T204629Z_S2A_30_v0.0/omission_comission.tex}\\n\\n\\\\end{center}\\n\\\\end{frame}\\n%%%%%%%%%%%%%%%%%%%%%%%%%%%%%%%%%%%%%%%%%%%%%%%%%%\\n\\n'"
      ]
     },
     "execution_count": 6,
     "metadata": {},
     "output_type": "execute_result"
    }
   ],
   "source": [
    "generate_slide(dswx_dirs[-1])"
   ]
  },
  {
   "cell_type": "code",
   "execution_count": 7,
   "id": "a3ecd755",
   "metadata": {
    "ExecuteTime": {
     "end_time": "2023-03-16T00:39:58.827507Z",
     "start_time": "2023-03-16T00:39:58.824491Z"
    }
   },
   "outputs": [
    {
     "name": "stdout",
     "output_type": "stream",
     "text": [
      "\n",
      "\n",
      "%%%%%%%%%%%%%%%%%%%%%%%%%%%%%%%%%%%%%%%%%%%%%%%%%%\n",
      "\\begin{frame}[fragile]\n",
      "\\frametitle{$OPERA\\_L3\\_DSWx{\\text -}HLS\\_T20HLJ\\_20211021T141049Z\\_20230314T204531Z\\_S2B\\_30\\_v0.0$}\n",
      "\n",
      "\\begin{center}\n",
      "\\tiny\n",
      "\\begin{verbatim}\n",
      "DSWx ID: OPERA_L3_DSWx-HLS_T20HLJ_20211021T141049Z_20230314T204531Z_S2B_30_v0.0\n",
      "\\end{verbatim}\n",
      "\\input{presentation_images/100-trials_conf-geq-0_sample-from-val/OPERA_L3_DSWx-HLS_T20HLJ_20211021T141049Z_20230314T204531Z_S2B_30_v0.0/more_ids.tex}\n",
      "\\adjincludegraphics[width=\\textwidth,trim={{.02\\width} {0.2\\height} {.12\\width} {0.2\\height}},clip]{presentation_images/100-trials_conf-geq-0_sample-from-val/OPERA_L3_DSWx-HLS_T20HLJ_20211021T141049Z_20230314T204531Z_S2B_30_v0.0/extent.png}\n",
      "\n",
      "\\end{center}\n",
      "\\end{frame}\n",
      "%%%%%%%%%%%%%%%%%%%%%%%%%%%%%%%%%%%%%%%%%%%%%%%%%%\n",
      "\n",
      "\n",
      "%%%%%%%%%%%%%%%%%%%%%%%%%%%%%%%%%%%%%%%%%%%%%%%%%%\n",
      "\\begin{frame}[t,fragile]\n",
      "\\frametitle{$OPERA\\_L3\\_DSWx{\\text -}HLS\\_T20HLJ\\_20211021T141049Z\\_20230314T204531Z\\_S2B\\_30\\_v0.0$}\n",
      "\n",
      "\\begin{center}\n",
      "\n",
      "\\TINY\n",
      "\\adjincludegraphics[width=.8\\textwidth,trim={{.0\\width} {.0\\height} {.0\\width} {.0\\height}},clip]{presentation_images/100-trials_conf-geq-0_sample-from-val/OPERA_L3_DSWx-HLS_T20HLJ_20211021T141049Z_20230314T204531Z_S2B_30_v0.0/comparison_resample.png}\n",
      "\\input{presentation_images/100-trials_conf-geq-0_sample-from-val/OPERA_L3_DSWx-HLS_T20HLJ_20211021T141049Z_20230314T204531Z_S2B_30_v0.0/requirements.tex}\n",
      "\\input{presentation_images/100-trials_conf-geq-0_sample-from-val/OPERA_L3_DSWx-HLS_T20HLJ_20211021T141049Z_20230314T204531Z_S2B_30_v0.0/confusion.tex}\n",
      "\\input{presentation_images/100-trials_conf-geq-0_sample-from-val/OPERA_L3_DSWx-HLS_T20HLJ_20211021T141049Z_20230314T204531Z_S2B_30_v0.0/accuracy.tex}\n",
      "\\end{center}\n",
      "\\end{frame}\n",
      "%%%%%%%%%%%%%%%%%%%%%%%%%%%%%%%%%%%%%%%%%%%%%%%%%%\n",
      "\n",
      "%%%%%%%%%%%%%%%%%%%%%%%%%%%%%%%%%%%%%%%%%%%%%%%%%%\n",
      "\\begin{frame}[t,fragile]\n",
      "\\frametitle{$OPERA\\_L3\\_DSWx{\\text -}HLS\\_T20HLJ\\_20211021T141049Z\\_20230314T204531Z\\_S2B\\_30\\_v0.0$}\n",
      "\\begin{center}\n",
      "\\TINY\n",
      "\\adjincludegraphics[width=.8\\textwidth,trim={{.0\\width} {.0\\height} {.0\\width} {.0\\height}},clip]{presentation_images/100-trials_conf-geq-0_sample-from-val/OPERA_L3_DSWx-HLS_T20HLJ_20211021T141049Z_20230314T204531Z_S2B_30_v0.0/comparison_resample_with_mask.png}\n",
      "\\input{presentation_images/100-trials_conf-geq-0_sample-from-val/OPERA_L3_DSWx-HLS_T20HLJ_20211021T141049Z_20230314T204531Z_S2B_30_v0.0/areas.tex}\n",
      "\\input{presentation_images/100-trials_conf-geq-0_sample-from-val/OPERA_L3_DSWx-HLS_T20HLJ_20211021T141049Z_20230314T204531Z_S2B_30_v0.0/omission_comission.tex}\n",
      "\n",
      "\\end{center}\n",
      "\\end{frame}\n",
      "%%%%%%%%%%%%%%%%%%%%%%%%%%%%%%%%%%%%%%%%%%%%%%%%%%\n",
      "\n",
      "\n"
     ]
    }
   ],
   "source": [
    "print(generate_slide(dswx_dirs[0]))"
   ]
  },
  {
   "cell_type": "code",
   "execution_count": 8,
   "id": "b4101536",
   "metadata": {
    "ExecuteTime": {
     "end_time": "2023-03-16T00:39:58.831795Z",
     "start_time": "2023-03-16T00:39:58.829225Z"
    }
   },
   "outputs": [],
   "source": [
    "slide_list = [generate_slide(dswx_dir) for dswx_dir in dswx_dirs]\n",
    "latex = '\\n\\n'.join(slide_list)"
   ]
  },
  {
   "cell_type": "code",
   "execution_count": 9,
   "id": "210d45ab",
   "metadata": {
    "ExecuteTime": {
     "end_time": "2023-03-16T00:39:58.836808Z",
     "start_time": "2023-03-16T00:39:58.833810Z"
    }
   },
   "outputs": [],
   "source": [
    "with open('slides.tex', 'w') as f:\n",
    "    f.write(latex)"
   ]
  }
 ],
 "metadata": {
  "kernelspec": {
   "display_name": "Python 3 (ipykernel)",
   "language": "python",
   "name": "python3"
  },
  "language_info": {
   "codemirror_mode": {
    "name": "ipython",
    "version": 3
   },
   "file_extension": ".py",
   "mimetype": "text/x-python",
   "name": "python",
   "nbconvert_exporter": "python",
   "pygments_lexer": "ipython3",
   "version": "3.10.9"
  }
 },
 "nbformat": 4,
 "nbformat_minor": 5
}
