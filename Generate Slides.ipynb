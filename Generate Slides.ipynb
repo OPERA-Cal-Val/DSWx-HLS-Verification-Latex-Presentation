{
 "cells": [
  {
   "cell_type": "code",
   "execution_count": 1,
   "id": "5d45207d",
   "metadata": {
    "ExecuteTime": {
     "end_time": "2023-01-20T20:01:19.028909Z",
     "start_time": "2023-01-20T20:01:19.026368Z"
    }
   },
   "outputs": [],
   "source": [
    "from pathlib import Path"
   ]
  },
  {
   "cell_type": "code",
   "execution_count": 2,
   "id": "77d09125",
   "metadata": {
    "ExecuteTime": {
     "end_time": "2023-01-20T20:01:19.033259Z",
     "start_time": "2023-01-20T20:01:19.030898Z"
    }
   },
   "outputs": [],
   "source": [
    "TEMPLATE = r\"\"\"\n",
    "\n",
    "%%%%%%%%%%%%%%%%%%%%%%%%%%%%%%%%%%%%%%%%%%%%%%%%%%\n",
    "\\begin{frame}[fragile]\n",
    "\\frametitle{$<<DSWX_ID>>$}\n",
    "\n",
    "\\begin{center}\n",
    "\\tiny\n",
    "\\begin{verbatim}\n",
    "<<DSWX_ID_ORIGINAL>>\n",
    "\\end{verbatim}\n",
    "\\adjincludegraphics[width=\\textwidth,trim={{.1\\width} {0.2\\height} {.12\\width} {0.2\\height}},clip]{<<DSWX_DIR>>/extent.png}\n",
    "\n",
    "\\end{center}\n",
    "\\end{frame}\n",
    "%%%%%%%%%%%%%%%%%%%%%%%%%%%%%%%%%%%%%%%%%%%%%%%%%%\n",
    "\n",
    "\n",
    "%%%%%%%%%%%%%%%%%%%%%%%%%%%%%%%%%%%%%%%%%%%%%%%%%%\n",
    "\\begin{frame}[t,fragile]\n",
    "\\frametitle{$<<DSWX_ID>>$}\n",
    "\n",
    "\\begin{center}\n",
    "\n",
    "\\tiny\n",
    "\\adjincludegraphics[width=.9\\textwidth,trim={{.0\\width} {0.1\\height} {.0\\width} {0.15\\height}},clip]{<<DSWX_DIR>>/comparison_resample.png}\n",
    "\\input{<<DSWX_DIR>>/requirements.tex}\n",
    "\\input{<<DSWX_DIR>>/confusion.tex}\n",
    "\\input{<<DSWX_DIR>>/accuracy.tex}\n",
    "\\end{center}\n",
    "\\end{frame}\n",
    "%%%%%%%%%%%%%%%%%%%%%%%%%%%%%%%%%%%%%%%%%%%%%%%%%%\n",
    "\n",
    "%%%%%%%%%%%%%%%%%%%%%%%%%%%%%%%%%%%%%%%%%%%%%%%%%%\n",
    "\\begin{frame}[t,fragile]\n",
    "\\frametitle{$<<DSWX_ID>>$}\n",
    "\\begin{center}\n",
    "\\tiny\n",
    "\\adjincludegraphics[width=\\textwidth,trim={{.0\\width} {0.1\\height} {.0\\width} {0.15\\height}},clip]{<<DSWX_DIR>>/comparison_resample_with_mask.png}\n",
    "\\input{<<DSWX_DIR>>/areas.tex}\n",
    "\\input{<<DSWX_DIR>>/omission_comission.tex}\n",
    "\\end{center}\n",
    "\\end{frame}\n",
    "%%%%%%%%%%%%%%%%%%%%%%%%%%%%%%%%%%%%%%%%%%%%%%%%%%\n",
    "\n",
    "\"\"\""
   ]
  },
  {
   "cell_type": "markdown",
   "id": "24e63ad9",
   "metadata": {},
   "source": [
    "Modify the directory below to the type of verification plots desired and have."
   ]
  },
  {
   "cell_type": "code",
   "execution_count": 3,
   "id": "54dd7072",
   "metadata": {
    "ExecuteTime": {
     "end_time": "2023-01-20T20:01:19.043215Z",
     "start_time": "2023-01-20T20:01:19.035447Z"
    }
   },
   "outputs": [
    {
     "data": {
      "text/plain": [
       "PosixPath('presentation_images/100-trials_conf-geq-70_sample-from-val/OPERA_L3_DSWx-HLS_T15QYU_20211011T162221Z_20230110T183526Z_S2A_30_v1.0')"
      ]
     },
     "execution_count": 3,
     "metadata": {},
     "output_type": "execute_result"
    }
   ],
   "source": [
    "dswx_dirs = list(Path('presentation_images/100-trials_conf-geq-70_sample-from-val/').glob('*/'))\n",
    "dswx_dirs = list(filter(lambda path: path.name[0] != '.', dswx_dirs))\n",
    "dswx_dirs[0]"
   ]
  },
  {
   "cell_type": "code",
   "execution_count": 4,
   "id": "9c3f74a5",
   "metadata": {
    "ExecuteTime": {
     "end_time": "2023-01-20T20:01:19.048178Z",
     "start_time": "2023-01-20T20:01:19.045374Z"
    }
   },
   "outputs": [],
   "source": [
    "def generate_slide(dswx_dir: Path) -> str:\n",
    "    slide = TEMPLATE.replace('<<DSWX_ID_ORIGINAL>>', dswx_dir.name)\n",
    "    dswx_id = dswx_dir.name\n",
    "    dswx_id = dswx_id.replace('_', '\\_').replace('-', '{\\\\text -}')\n",
    "    slide = slide.replace('<<DSWX_ID>>', dswx_id)\n",
    "    slide = slide.replace('<<DSWX_DIR>>', str(dswx_dir))\n",
    "    return slide"
   ]
  },
  {
   "cell_type": "code",
   "execution_count": 5,
   "id": "884b7f6b",
   "metadata": {
    "ExecuteTime": {
     "end_time": "2023-01-20T20:01:19.052450Z",
     "start_time": "2023-01-20T20:01:19.050018Z"
    }
   },
   "outputs": [
    {
     "name": "stdout",
     "output_type": "stream",
     "text": [
      "\n",
      "\n",
      "%%%%%%%%%%%%%%%%%%%%%%%%%%%%%%%%%%%%%%%%%%%%%%%%%%\n",
      "\\begin{frame}[fragile]\n",
      "\\frametitle{$OPERA\\_L3\\_DSWx{\\text -}HLS\\_T15QYU\\_20211011T162221Z\\_20230110T183526Z\\_S2A\\_30\\_v1.0$}\n",
      "\n",
      "\\begin{center}\n",
      "\\tiny\n",
      "\\verbatim{OPERA_L3_DSWx-HLS_T15QYU_20211011T162221Z_20230110T183526Z_S2A_30_v1.0}\n",
      "\\adjincludegraphics[width=\\textwidth,trim={{.1\\width} {0.2\\height} {.12\\width} {0.2\\height}},clip]{presentation_images/100-trials_conf-geq-70_sample-from-val/OPERA_L3_DSWx-HLS_T15QYU_20211011T162221Z_20230110T183526Z_S2A_30_v1.0/extent.png}\n",
      "\n",
      "\\end{center}\n",
      "\\end{frame}\n",
      "%%%%%%%%%%%%%%%%%%%%%%%%%%%%%%%%%%%%%%%%%%%%%%%%%%\n",
      "\n",
      "\n",
      "%%%%%%%%%%%%%%%%%%%%%%%%%%%%%%%%%%%%%%%%%%%%%%%%%%\n",
      "\\begin{frame}[t,fragile]\n",
      "\\frametitle{$OPERA\\_L3\\_DSWx{\\text -}HLS\\_T15QYU\\_20211011T162221Z\\_20230110T183526Z\\_S2A\\_30\\_v1.0$}\n",
      "\n",
      "\\begin{center}\n",
      "\n",
      "\\tiny\n",
      "\\adjincludegraphics[width=.9\\textwidth,trim={{.0\\width} {0.1\\height} {.0\\width} {0.15\\height}},clip]{presentation_images/100-trials_conf-geq-70_sample-from-val/OPERA_L3_DSWx-HLS_T15QYU_20211011T162221Z_20230110T183526Z_S2A_30_v1.0/comparison_resample.png}\n",
      "\\input{presentation_images/100-trials_conf-geq-70_sample-from-val/OPERA_L3_DSWx-HLS_T15QYU_20211011T162221Z_20230110T183526Z_S2A_30_v1.0/requirements.tex}\n",
      "\\input{presentation_images/100-trials_conf-geq-70_sample-from-val/OPERA_L3_DSWx-HLS_T15QYU_20211011T162221Z_20230110T183526Z_S2A_30_v1.0/confusion.tex}\n",
      "\\input{presentation_images/100-trials_conf-geq-70_sample-from-val/OPERA_L3_DSWx-HLS_T15QYU_20211011T162221Z_20230110T183526Z_S2A_30_v1.0/accuracy.tex}\n",
      "\\end{center}\n",
      "\\end{frame}\n",
      "%%%%%%%%%%%%%%%%%%%%%%%%%%%%%%%%%%%%%%%%%%%%%%%%%%\n",
      "\n",
      "%%%%%%%%%%%%%%%%%%%%%%%%%%%%%%%%%%%%%%%%%%%%%%%%%%\n",
      "\\begin{frame}[t,fragile]\n",
      "\\frametitle{$OPERA\\_L3\\_DSWx{\\text -}HLS\\_T15QYU\\_20211011T162221Z\\_20230110T183526Z\\_S2A\\_30\\_v1.0$}\n",
      "\\begin{center}\n",
      "\\tiny\n",
      "\\adjincludegraphics[width=\\textwidth,trim={{.0\\width} {0.1\\height} {.0\\width} {0.15\\height}},clip]{presentation_images/100-trials_conf-geq-70_sample-from-val/OPERA_L3_DSWx-HLS_T15QYU_20211011T162221Z_20230110T183526Z_S2A_30_v1.0/comparison_resample_with_mask.png}\n",
      "\\input{presentation_images/100-trials_conf-geq-70_sample-from-val/OPERA_L3_DSWx-HLS_T15QYU_20211011T162221Z_20230110T183526Z_S2A_30_v1.0/areas.tex}\n",
      "\\input{presentation_images/100-trials_conf-geq-70_sample-from-val/OPERA_L3_DSWx-HLS_T15QYU_20211011T162221Z_20230110T183526Z_S2A_30_v1.0/omission_comission.tex}\n",
      "\\end{center}\n",
      "\\end{frame}\n",
      "%%%%%%%%%%%%%%%%%%%%%%%%%%%%%%%%%%%%%%%%%%%%%%%%%%\n",
      "\n",
      "\n"
     ]
    }
   ],
   "source": [
    "print(generate_slide(dswx_dirs[0]))"
   ]
  },
  {
   "cell_type": "code",
   "execution_count": 6,
   "id": "a5c64216",
   "metadata": {
    "ExecuteTime": {
     "end_time": "2023-01-20T20:01:19.056770Z",
     "start_time": "2023-01-20T20:01:19.054512Z"
    }
   },
   "outputs": [],
   "source": [
    "slide_list = [generate_slide(dswx_dir) for dswx_dir in dswx_dirs]\n",
    "latex = '\\n\\n'.join(slide_list)"
   ]
  },
  {
   "cell_type": "code",
   "execution_count": 7,
   "id": "c9bfc82a",
   "metadata": {
    "ExecuteTime": {
     "end_time": "2023-01-20T20:01:19.061098Z",
     "start_time": "2023-01-20T20:01:19.058641Z"
    }
   },
   "outputs": [],
   "source": [
    "with open('slides.tex', 'w') as f:\n",
    "    f.write(latex)"
   ]
  }
 ],
 "metadata": {
  "kernelspec": {
   "display_name": "Python 3",
   "language": "python",
   "name": "python3"
  },
  "language_info": {
   "codemirror_mode": {
    "name": "ipython",
    "version": 3
   },
   "file_extension": ".py",
   "mimetype": "text/x-python",
   "name": "python",
   "nbconvert_exporter": "python",
   "pygments_lexer": "ipython3",
   "version": "3.8.5"
  }
 },
 "nbformat": 4,
 "nbformat_minor": 5
}
