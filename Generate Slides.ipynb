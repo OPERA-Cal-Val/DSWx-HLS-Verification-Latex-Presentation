{
 "cells": [
  {
   "cell_type": "code",
   "execution_count": 1,
   "id": "c8ba39d9",
   "metadata": {
    "ExecuteTime": {
     "end_time": "2023-01-20T20:04:40.621171Z",
     "start_time": "2023-01-20T20:04:40.618392Z"
    }
   },
   "outputs": [],
   "source": [
    "from pathlib import Path"
   ]
  },
  {
   "cell_type": "code",
   "execution_count": 2,
   "id": "7ce4fdbb",
   "metadata": {
    "ExecuteTime": {
     "end_time": "2023-01-20T20:04:40.625385Z",
     "start_time": "2023-01-20T20:04:40.623068Z"
    }
   },
   "outputs": [],
   "source": [
    "TEMPLATE = r\"\"\"\n",
    "\n",
    "%%%%%%%%%%%%%%%%%%%%%%%%%%%%%%%%%%%%%%%%%%%%%%%%%%\n",
    "\\begin{frame}[fragile]\n",
    "\\frametitle{$<<DSWX_ID>>$}\n",
    "\n",
    "\\begin{center}\n",
    "\\tiny\n",
    "\\begin{verbatim}\n",
    "<<DSWX_ID_ORIGINAL>>\n",
    "\\end{verbatim}\n",
    "\\adjincludegraphics[width=\\textwidth,trim={{.1\\width} {0.2\\height} {.12\\width} {0.2\\height}},clip]{<<DSWX_DIR>>/extent.png}\n",
    "\n",
    "\\end{center}\n",
    "\\end{frame}\n",
    "%%%%%%%%%%%%%%%%%%%%%%%%%%%%%%%%%%%%%%%%%%%%%%%%%%\n",
    "\n",
    "\n",
    "%%%%%%%%%%%%%%%%%%%%%%%%%%%%%%%%%%%%%%%%%%%%%%%%%%\n",
    "\\begin{frame}[t,fragile]\n",
    "\\frametitle{$<<DSWX_ID>>$}\n",
    "\n",
    "\\begin{center}\n",
    "\n",
    "\\tiny\n",
    "\\adjincludegraphics[width=.9\\textwidth,trim={{.0\\width} {0.1\\height} {.0\\width} {0.15\\height}},clip]{<<DSWX_DIR>>/comparison_resample.png}\n",
    "\\input{<<DSWX_DIR>>/requirements.tex}\n",
    "\\input{<<DSWX_DIR>>/confusion.tex}\n",
    "\\input{<<DSWX_DIR>>/accuracy.tex}\n",
    "\\end{center}\n",
    "\\end{frame}\n",
    "%%%%%%%%%%%%%%%%%%%%%%%%%%%%%%%%%%%%%%%%%%%%%%%%%%\n",
    "\n",
    "%%%%%%%%%%%%%%%%%%%%%%%%%%%%%%%%%%%%%%%%%%%%%%%%%%\n",
    "\\begin{frame}[t,fragile]\n",
    "\\frametitle{$<<DSWX_ID>>$}\n",
    "\\begin{center}\n",
    "\\tiny\n",
    "\\adjincludegraphics[width=\\textwidth,trim={{.0\\width} {0.1\\height} {.0\\width} {0.15\\height}},clip]{<<DSWX_DIR>>/comparison_resample_with_mask.png}\n",
    "\\input{<<DSWX_DIR>>/areas.tex}\n",
    "\\input{<<DSWX_DIR>>/omission_comission.tex}\n",
    "\\end{center}\n",
    "\\end{frame}\n",
    "%%%%%%%%%%%%%%%%%%%%%%%%%%%%%%%%%%%%%%%%%%%%%%%%%%\n",
    "\n",
    "\"\"\""
   ]
  },
  {
   "cell_type": "markdown",
   "id": "b2076b50",
   "metadata": {},
   "source": [
    "Modify the directory below to the type of verification plots desired and have."
   ]
  },
  {
   "cell_type": "code",
   "execution_count": 3,
   "id": "70504502",
   "metadata": {
    "ExecuteTime": {
     "end_time": "2023-01-20T20:04:40.636373Z",
     "start_time": "2023-01-20T20:04:40.627288Z"
    }
   },
   "outputs": [],
   "source": [
    "dswx_dirs = list(Path('presentation_images/100-trials_conf-geq-70_sample-from-val/').glob('*/'))\n",
    "dswx_dirs = list(filter(lambda path: path.name[0] != '.', dswx_dirs))\n",
    "dswx_dirs[0]"
   ]
  },
  {
   "cell_type": "code",
   "execution_count": 4,
   "id": "97ac86c9",
   "metadata": {
    "ExecuteTime": {
     "end_time": "2023-01-20T20:04:40.640942Z",
     "start_time": "2023-01-20T20:04:40.638277Z"
    }
   },
   "outputs": [],
   "source": [
    "def generate_slide(dswx_dir: Path) -> str:\n",
    "    slide = TEMPLATE.replace('<<DSWX_ID_ORIGINAL>>', dswx_dir.name)\n",
    "    dswx_id = dswx_dir.name\n",
    "    dswx_id = dswx_id.replace('_', '\\_').replace('-', '{\\\\text -}')\n",
    "    slide = slide.replace('<<DSWX_ID>>', dswx_id)\n",
    "    slide = slide.replace('<<DSWX_DIR>>', str(dswx_dir))\n",
    "    return slide"
   ]
  },
  {
   "cell_type": "code",
   "execution_count": 5,
   "id": "f1fa2bcc",
   "metadata": {
    "ExecuteTime": {
     "end_time": "2023-01-20T20:04:40.644887Z",
     "start_time": "2023-01-20T20:04:40.642530Z"
    }
   },
   "outputs": [],
   "source": [
    "print(generate_slide(dswx_dirs[0]))"
   ]
  },
  {
   "cell_type": "code",
   "execution_count": 6,
   "id": "6186fe21",
   "metadata": {
    "ExecuteTime": {
     "end_time": "2023-01-20T20:04:40.648480Z",
     "start_time": "2023-01-20T20:04:40.646434Z"
    }
   },
   "outputs": [],
   "source": [
    "slide_list = [generate_slide(dswx_dir) for dswx_dir in dswx_dirs]\n",
    "latex = '\\n\\n'.join(slide_list)"
   ]
  },
  {
   "cell_type": "code",
   "execution_count": 7,
   "id": "0d8285e1",
   "metadata": {
    "ExecuteTime": {
     "end_time": "2023-01-20T20:04:40.652645Z",
     "start_time": "2023-01-20T20:04:40.650310Z"
    }
   },
   "outputs": [],
   "source": [
    "with open('slides.tex', 'w') as f:\n",
    "    f.write(latex)"
   ]
  }
 ],
 "metadata": {
  "kernelspec": {
   "display_name": "Python 3",
   "language": "python",
   "name": "python3"
  },
  "language_info": {
   "codemirror_mode": {
    "name": "ipython",
    "version": 3
   },
   "file_extension": ".py",
   "mimetype": "text/x-python",
   "name": "python",
   "nbconvert_exporter": "python",
   "pygments_lexer": "ipython3",
   "version": "3.8.5"
  }
 },
 "nbformat": 4,
 "nbformat_minor": 5
}
