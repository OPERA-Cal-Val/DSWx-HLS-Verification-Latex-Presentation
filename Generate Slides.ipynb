{
 "cells": [
  {
   "cell_type": "code",
   "execution_count": 1,
   "id": "cdc2dbdb",
   "metadata": {
    "ExecuteTime": {
     "end_time": "2023-01-11T20:31:03.711908Z",
     "start_time": "2023-01-11T20:31:03.709583Z"
    }
   },
   "outputs": [],
   "source": [
    "from pathlib import Path"
   ]
  },
  {
   "cell_type": "code",
   "execution_count": 2,
   "id": "38a449e4",
   "metadata": {
    "ExecuteTime": {
     "end_time": "2023-01-11T20:31:03.715995Z",
     "start_time": "2023-01-11T20:31:03.713861Z"
    }
   },
   "outputs": [],
   "source": [
    "TEMPLATE = r\"\"\"\n",
    "%%%%%%%%%%%%%%%%%%%%%%%%%%%%%%%%%%%%%%%%%%%%%%%%%%\n",
    "\\begin{frame}[fragile]\n",
    "\\frametitle{}\n",
    "\\begin{verbatim}OPERA_L3_DSWx-HLS_T04VCM_20210928T220529Z_20230110T183338Z_S2B_30_v1.0 \\end{verbatim}\n",
    "\\tiny\n",
    "\\includegraphics[width=1\\textwidth]{presentation_images/100-trials_conf-geq-70_sample-from-val/<<DSWX_ID>>/comparison_resample.png}\n",
    "\\input{<<DSWX_DIR>>/requirements.tex}\n",
    "\\input{<<DSWX_DIR>>/confusion.tex}\n",
    "\\input{<<DSWX_DIR>>/accuracy.tex}\n",
    "\\end{center}\n",
    "\\end{frame}\n",
    "%%%%%%%%%%%%%%%%%%%%%%%%%%%%%%%%%%%%%%%%%%%%%%%%%%\n",
    "\"\"\""
   ]
  },
  {
   "cell_type": "code",
   "execution_count": 3,
   "id": "1d9580d5",
   "metadata": {
    "ExecuteTime": {
     "end_time": "2023-01-11T20:31:03.725734Z",
     "start_time": "2023-01-11T20:31:03.718110Z"
    }
   },
   "outputs": [
    {
     "data": {
      "text/plain": [
       "PosixPath('presentation_images/100-trials_conf-geq-70_sample-from-val/OPERA_L3_DSWx-HLS_T04VCM_20210928T220529Z_20230110T183338Z_S2B_30_v1.0')"
      ]
     },
     "execution_count": 3,
     "metadata": {},
     "output_type": "execute_result"
    }
   ],
   "source": [
    "dswx_dirs = list(Path('presentation_images/100-trials_conf-geq-70_sample-from-val/').glob('*/'))\n",
    "dswx_dirs[0]"
   ]
  },
  {
   "cell_type": "code",
   "execution_count": 4,
   "id": "e32ed334",
   "metadata": {
    "ExecuteTime": {
     "end_time": "2023-01-11T20:31:03.732506Z",
     "start_time": "2023-01-11T20:31:03.729783Z"
    }
   },
   "outputs": [],
   "source": [
    "def generate_slide(dswx_dir: Path) -> str:\n",
    "    slide = TEMPLATE.replace('<<DSWX_ID>>', dswx_dir.name)\n",
    "    slide = slide.replace('<<DSWX_DIR>>', str(dswx_dir))\n",
    "    return slide"
   ]
  },
  {
   "cell_type": "code",
   "execution_count": 5,
   "id": "163c101f",
   "metadata": {
    "ExecuteTime": {
     "end_time": "2023-01-11T20:31:03.736932Z",
     "start_time": "2023-01-11T20:31:03.734240Z"
    }
   },
   "outputs": [
    {
     "data": {
      "text/plain": [
       "'\\n%%%%%%%%%%%%%%%%%%%%%%%%%%%%%%%%%%%%%%%%%%%%%%%%%%\\n\\\\begin{frame}\\n\\\\frametitle{OPERA_L3_DSWx-HLS_T04VCM_20210928T220529Z_20230110T183338Z_S2B_30_v1.0}\\n\\\\begin{center}\\n\\\\tiny\\n\\\\includegraphics[width=1\\\\textwidth]{presentation_images/100-trials_conf-geq-70_sample-from-val/OPERA_L3_DSWx-HLS_T04VCM_20210928T220529Z_20230110T183338Z_S2B_30_v1.0/comparison.png}\\n\\\\input{presentation_images/100-trials_conf-geq-70_sample-from-val/OPERA_L3_DSWx-HLS_T04VCM_20210928T220529Z_20230110T183338Z_S2B_30_v1.0/requirements.tex}\\n\\\\input{presentation_images/100-trials_conf-geq-70_sample-from-val/OPERA_L3_DSWx-HLS_T04VCM_20210928T220529Z_20230110T183338Z_S2B_30_v1.0/confusion.tex}\\n\\\\input{presentation_images/100-trials_conf-geq-70_sample-from-val/OPERA_L3_DSWx-HLS_T04VCM_20210928T220529Z_20230110T183338Z_S2B_30_v1.0/accuracy.tex}\\n\\\\end{center}\\n\\\\end{frame}\\n%%%%%%%%%%%%%%%%%%%%%%%%%%%%%%%%%%%%%%%%%%%%%%%%%%\\n'"
      ]
     },
     "execution_count": 5,
     "metadata": {},
     "output_type": "execute_result"
    }
   ],
   "source": [
    "generate_slide(dswx_dirs[0])"
   ]
  },
  {
   "cell_type": "code",
   "execution_count": 6,
   "id": "b82405b6",
   "metadata": {
    "ExecuteTime": {
     "end_time": "2023-01-11T20:31:03.741042Z",
     "start_time": "2023-01-11T20:31:03.738739Z"
    }
   },
   "outputs": [],
   "source": [
    "slide_list = [generate_slide(dswx_dir) for dswx_dir in dswx_dirs]\n",
    "latex = '\\n\\n'.join(slide_list)"
   ]
  },
  {
   "cell_type": "code",
   "execution_count": 7,
   "id": "b3bb6f16",
   "metadata": {
    "ExecuteTime": {
     "end_time": "2023-01-11T20:31:03.746936Z",
     "start_time": "2023-01-11T20:31:03.744395Z"
    }
   },
   "outputs": [],
   "source": [
    "with open('slides.tex', 'w') as f:\n",
    "    f.write(latex)"
   ]
  }
 ],
 "metadata": {
  "kernelspec": {
   "display_name": "Python 3",
   "language": "python",
   "name": "python3"
  },
  "language_info": {
   "codemirror_mode": {
    "name": "ipython",
    "version": 3
   },
   "file_extension": ".py",
   "mimetype": "text/x-python",
   "name": "python",
   "nbconvert_exporter": "python",
   "pygments_lexer": "ipython3",
   "version": "3.8.5"
  }
 },
 "nbformat": 4,
 "nbformat_minor": 5
}
